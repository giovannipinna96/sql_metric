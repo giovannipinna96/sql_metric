{
 "cells": [
  {
   "cell_type": "code",
   "execution_count": 2,
   "metadata": {},
   "outputs": [
    {
     "name": "stdout",
     "output_type": "stream",
     "text": [
      "Collecting einops\n",
      "  Downloading einops-0.8.0-py3-none-any.whl.metadata (12 kB)\n",
      "Downloading einops-0.8.0-py3-none-any.whl (43 kB)\n",
      "\u001b[2K   \u001b[90m━━━━━━━━━━━━━━━━━━━━━━━━━━━━━━━━━━━━━━━━\u001b[0m \u001b[32m43.2/43.2 kB\u001b[0m \u001b[31m419.3 kB/s\u001b[0m eta \u001b[36m0:00:00\u001b[0m\u001b[36m0:00:01\u001b[0m\n",
      "\u001b[?25hInstalling collected packages: einops\n",
      "Successfully installed einops-0.8.0\n"
     ]
    }
   ],
   "source": [
    "!pip install einops\n"
   ]
  },
  {
   "cell_type": "code",
   "execution_count": 18,
   "metadata": {},
   "outputs": [
    {
     "name": "stderr",
     "output_type": "stream",
     "text": [
      "/opt/homebrew/Caskroom/miniforge/base/envs/asrDevMyNorth/lib/python3.9/site-packages/huggingface_hub/file_download.py:1132: FutureWarning: `resume_download` is deprecated and will be removed in version 1.0.0. Downloads always resume when possible. If you want to force a new download, use `force_download=True`.\n",
      "  warnings.warn(\n",
      "<All keys matched successfully>\n"
     ]
    }
   ],
   "source": [
    "# Load model directly\n",
    "from sentence_transformers import SentenceTransformer\n",
    "\n",
    "model = SentenceTransformer(\"nomic-ai/nomic-embed-text-v1\", trust_remote_code=True)"
   ]
  },
  {
   "cell_type": "code",
   "execution_count": 32,
   "metadata": {},
   "outputs": [],
   "source": [
    "sql1= r\"\"\"SELECT employees.name, departments.department_name\n",
    "                FROM employees\"\"\"\n",
    "sql2= r\"\"\"SELECT name\n",
    "                  FROM departments \"\"\""
   ]
  },
  {
   "cell_type": "code",
   "execution_count": 33,
   "metadata": {},
   "outputs": [],
   "source": [
    "embed1= model.encode(sql1)\n",
    "embed2= model.encode(sql2)"
   ]
  },
  {
   "cell_type": "code",
   "execution_count": 34,
   "metadata": {},
   "outputs": [
    {
     "name": "stdout",
     "output_type": "stream",
     "text": [
      "[[0.84708035]]\n"
     ]
    }
   ],
   "source": [
    "# Calculate cosine similarity between embed1 and embed2\n",
    "from sklearn.metrics.pairwise import cosine_similarity\n",
    "similarity = cosine_similarity([embed1], [embed2])\n",
    "print(similarity)\n"
   ]
  },
  {
   "cell_type": "code",
   "execution_count": 35,
   "metadata": {},
   "outputs": [],
   "source": [
    "from pglast import parse_sql\n",
    "import pprint\n",
    "\n",
    "ast1= parse_sql(sql1)[0].stmt\n",
    "ast2 = parse_sql(sql2)[0].stmt\n",
    "pp = pprint.PrettyPrinter()\n",
    "ast = {\n",
    "    'AST1': pp.pformat(ast1(skip_none=True)),\n",
    "    'AST2': pp.pformat(ast2(skip_none=True))\n",
    "}"
   ]
  },
  {
   "cell_type": "code",
   "execution_count": 36,
   "metadata": {},
   "outputs": [
    {
     "data": {
      "text/plain": [
       "{'AST1': \"{'@': 'SelectStmt',\\n 'all': False,\\n 'fromClause': ({'@': 'RangeVar',\\n                 'inh': True,\\n                 'location': 72,\\n                 'relname': 'employees',\\n                 'relpersistence': 'p'},),\\n 'groupDistinct': False,\\n 'limitOption': {'#': 'LimitOption',\\n                 'name': 'LIMIT_OPTION_DEFAULT',\\n                 'value': 0},\\n 'op': {'#': 'SetOperation', 'name': 'SETOP_NONE', 'value': 0},\\n 'targetList': ({'@': 'ResTarget',\\n                 'location': 7,\\n                 'val': {'@': 'ColumnRef',\\n                         'fields': ({'@': 'String', 'sval': 'employees'},\\n                                    {'@': 'String', 'sval': 'name'}),\\n                         'location': 7}},\\n                {'@': 'ResTarget',\\n                 'location': 23,\\n                 'val': {'@': 'ColumnRef',\\n                         'fields': ({'@': 'String', 'sval': 'departments'},\\n                                    {'@': 'String', 'sval': 'department_name'}),\\n                         'location': 23}})}\",\n",
       " 'AST2': \"{'@': 'SelectStmt',\\n 'all': False,\\n 'fromClause': ({'@': 'RangeVar',\\n                 'inh': True,\\n                 'location': 35,\\n                 'relname': 'departments',\\n                 'relpersistence': 'p'},),\\n 'groupDistinct': False,\\n 'limitOption': {'#': 'LimitOption',\\n                 'name': 'LIMIT_OPTION_DEFAULT',\\n                 'value': 0},\\n 'op': {'#': 'SetOperation', 'name': 'SETOP_NONE', 'value': 0},\\n 'targetList': ({'@': 'ResTarget',\\n                 'location': 7,\\n                 'val': {'@': 'ColumnRef',\\n                         'fields': ({'@': 'String', 'sval': 'name'},),\\n                         'location': 7}},)}\"}"
      ]
     },
     "execution_count": 36,
     "metadata": {},
     "output_type": "execute_result"
    }
   ],
   "source": [
    "ast"
   ]
  },
  {
   "cell_type": "code",
   "execution_count": 38,
   "metadata": {},
   "outputs": [
    {
     "name": "stdout",
     "output_type": "stream",
     "text": [
      "AST similarity  : [[0.98262715]]\n"
     ]
    }
   ],
   "source": [
    "embed1ast= model.encode(ast[\"AST1\"])\n",
    "embed2ast= model.encode(ast[\"AST2\"])\n",
    "similarity = cosine_similarity([embed1ast], [embed2ast])\n",
    "print(f'AST similarity  : {similarity}')"
   ]
  },
  {
   "cell_type": "code",
   "execution_count": null,
   "metadata": {},
   "outputs": [],
   "source": []
  }
 ],
 "metadata": {
  "kernelspec": {
   "display_name": "asrDevMyNorth",
   "language": "python",
   "name": "python3"
  },
  "language_info": {
   "codemirror_mode": {
    "name": "ipython",
    "version": 3
   },
   "file_extension": ".py",
   "mimetype": "text/x-python",
   "name": "python",
   "nbconvert_exporter": "python",
   "pygments_lexer": "ipython3",
   "version": "3.9.0"
  }
 },
 "nbformat": 4,
 "nbformat_minor": 2
}
